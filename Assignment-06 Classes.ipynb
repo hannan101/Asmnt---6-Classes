{
 "cells": [
  {
   "cell_type": "markdown",
   "id": "d16e28c7-7971-4238-bea0-fe9cf268c8b5",
   "metadata": {},
   "source": [
    "1- Write a Python program to create a class representing a Circle. Include methods to calculate its area and perimeter."
   ]
  },
  {
   "cell_type": "code",
   "execution_count": 1,
   "id": "12b15c2a-fec4-496f-b81a-770ca3ffb5f9",
   "metadata": {},
   "outputs": [
    {
     "name": "stdout",
     "output_type": "stream",
     "text": [
      "Area of the circle: 78.54\n",
      "Perimeter of the circle: 31.42\n"
     ]
    }
   ],
   "source": [
    "import math\n",
    "\n",
    "class Circle:\n",
    "    def __init__(self, radius):\n",
    "        self.radius = radius\n",
    "\n",
    "    def calculate_area(self):\n",
    "        return math.pi * (self.radius ** 2)\n",
    "\n",
    "    def calculate_perimeter(self):\n",
    "        return 2 * math.pi * self.radius\n",
    "\n",
    "# Creating an instance of Circle\n",
    "circle = Circle(5)\n",
    "\n",
    "# Calculating the area and perimeter\n",
    "area = circle.calculate_area()\n",
    "perimeter = circle.calculate_perimeter()\n",
    "\n",
    "# Printing the results\n",
    "print(f\"Area of the circle: {area:.2f}\")\n",
    "print(f\"Perimeter of the circle: {perimeter:.2f}\")\n"
   ]
  },
  {
   "cell_type": "markdown",
   "id": "957393b3-5cf9-4ee7-a2e4-746d8b66514c",
   "metadata": {},
   "source": [
    "2- Write a Python program to create a person class. Include attributes like name, country and date of birth. Implement a method to determine the person's age."
   ]
  },
  {
   "cell_type": "code",
   "execution_count": 5,
   "id": "43730135-d920-4241-add7-35f432aed516",
   "metadata": {},
   "outputs": [
    {
     "name": "stdout",
     "output_type": "stream",
     "text": [
      "2000-10-23 00:00:00\n",
      "Hannan Shaikh from Pakistan is 24 years old.\n"
     ]
    }
   ],
   "source": [
    "from datetime import datetime\n",
    "\n",
    "class Person:\n",
    "    def __init__(self, name, country, dob):\n",
    "        self.name = name\n",
    "        self.country = country\n",
    "        self.dob = dob  # Date of birth in format 'YYYY-MM-DD'\n",
    "\n",
    "    def calculate_age(self):\n",
    "        birth_date = datetime.strptime(self.dob, '%Y-%m-%d')\n",
    "        print(birth_date)\n",
    "        today = datetime.today()\n",
    "        age = today.year - birth_date.year\n",
    "        # Adjust age if the birthday has not yet occurred this year\n",
    "        if (today.month, today.day) < (birth_date.month, birth_date.day):\n",
    "            age -= 1\n",
    "        return age\n",
    "\n",
    "# Creating an instance of Person\n",
    "person = Person(\"Hannan Shaikh\", \"Pakistan\", \"2000-10-23\")\n",
    "\n",
    "# Calculating the age\n",
    "age = person.calculate_age()\n",
    "\n",
    "# Printing the results\n",
    "print(f\"{person.name} from {person.country} is {age} years old.\")\n"
   ]
  },
  {
   "cell_type": "markdown",
   "id": "6277555e-d66f-4aa0-9db0-676505b9e06a",
   "metadata": {},
   "source": [
    "3- Write a Python program to create a calculator class. Include methods for basic arithmetic operations."
   ]
  },
  {
   "cell_type": "code",
   "execution_count": 11,
   "id": "e1621b3f-636d-4dab-8b8e-bd08c5672dab",
   "metadata": {},
   "outputs": [
    {
     "name": "stdout",
     "output_type": "stream",
     "text": [
      "Addition: 15\n",
      "Subtraction: 5\n",
      "Subtraction: 50\n",
      "Subtraction: 2.0\n"
     ]
    }
   ],
   "source": [
    "class Calculator:\n",
    "    def add(self, a, b):\n",
    "        return a + b\n",
    "\n",
    "    def subtract(self, a, b):\n",
    "        return a - b\n",
    "\n",
    "    def multiply(self, a, b):\n",
    "        return a * b\n",
    "\n",
    "    def divide(self, a, b):\n",
    "        if b != 0:\n",
    "            return a / b\n",
    "        else:\n",
    "            return \"Error: Division by zero is not allowed.\"\n",
    "\n",
    "# Creating an instance of Calculator\n",
    "calc = Calculator()\n",
    "\n",
    "# Performing basic arithmetic operations\n",
    "addition = calc.add(10, 5)\n",
    "subtraction = calc.subtract(10, 5)\n",
    "multiplication = calc.multiply(10, 5)\n",
    "division = calc.divide(10, 5)\n",
    "\n",
    "# Printing the results\n",
    "print(f\"Addition: {addition}\")\n",
    "print(f\"Subtraction: {subtraction}\")\n",
    "print(f\"Subtraction: {multiplication}\")\n",
    "print(f\"Subtraction: {division}\")\n"
   ]
  }
 ],
 "metadata": {
  "kernelspec": {
   "display_name": "Python 3 (ipykernel)",
   "language": "python",
   "name": "python3"
  },
  "language_info": {
   "codemirror_mode": {
    "name": "ipython",
    "version": 3
   },
   "file_extension": ".py",
   "mimetype": "text/x-python",
   "name": "python",
   "nbconvert_exporter": "python",
   "pygments_lexer": "ipython3",
   "version": "3.11.9"
  }
 },
 "nbformat": 4,
 "nbformat_minor": 5
}
